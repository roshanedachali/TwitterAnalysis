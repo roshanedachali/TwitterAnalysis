{
  "nbformat": 4,
  "nbformat_minor": 0,
  "metadata": {
    "colab": {
      "name": "TextualSA.ipynb",
      "provenance": [],
      "authorship_tag": "ABX9TyPZGrVpIOmczgZBAoRQzI+Y",
      "include_colab_link": true
    },
    "kernelspec": {
      "name": "python3",
      "display_name": "Python 3"
    },
    "language_info": {
      "name": "python"
    }
  },
  "cells": [
    {
      "cell_type": "markdown",
      "metadata": {
        "id": "view-in-github",
        "colab_type": "text"
      },
      "source": [
        "<a href=\"https://colab.research.google.com/github/roshanedachali/TwitterAnalysis/blob/main/TextualSA.ipynb\" target=\"_parent\"><img src=\"https://colab.research.google.com/assets/colab-badge.svg\" alt=\"Open In Colab\"/></a>"
      ]
    },
    {
      "cell_type": "markdown",
      "metadata": {
        "id": "cRV7UItieSqd"
      },
      "source": [
        "# Import"
      ]
    },
    {
      "cell_type": "code",
      "metadata": {
        "id": "iDsMVnIMYPys",
        "colab": {
          "base_uri": "https://localhost:8080/"
        },
        "outputId": "c920841e-926e-4c7b-dbd4-4c4b4684a55b"
      },
      "source": [
        "#IMPORT\n",
        "import tweepy\n",
        "import csv\n",
        "! pip install jsonpickle\n",
        "import jsonpickle\n",
        "API_KEY=\"Q76360NUPSaax6Ic1MyPCqPhD\"\n",
        "API_SECRET=\"Ef5NJGN1GVJ6hwjOgh7Tv5NtOrBgipvE2umyrP37qkh8XWbOmC\"\n",
        "ACCESS_TOKEN=\"3180237764-o2OUouxEnigruw79ULQ2RrK78zbONdduBgScexi\"\n",
        "ACCESS_TOKEN_SECRET=\"yXCX26guHINaRHFCrlJmTTiSweTnlOTd67DDYdbJceQpl\"\n",
        "auth = tweepy.OAuthHandler(API_KEY, API_SECRET)\n",
        "auth.set_access_token(ACCESS_TOKEN, ACCESS_TOKEN_SECRET)\n",
        "api = tweepy.API(auth)\n",
        "import pandas as pd\n",
        "import numpy as np\n",
        "import re\n",
        "import string\n",
        "from nltk.corpus import stopwords\n",
        "from nltk.tokenize import word_tokenize\n",
        "from sklearn.feature_extraction.text import TfidfVectorizer\n",
        "from sklearn.model_selection import train_test_split\n",
        "from nltk.stem import PorterStemmer\n",
        "from nltk.stem import WordNetLemmatizer\n",
        "# ML Libraries\n",
        "from sklearn.metrics import accuracy_score\n",
        "from sklearn.naive_bayes import MultinomialNB\n",
        "from sklearn.linear_model import LogisticRegression\n",
        "from sklearn.svm import SVC"
      ],
      "execution_count": 87,
      "outputs": [
        {
          "output_type": "stream",
          "text": [
            "Requirement already satisfied: jsonpickle in /usr/local/lib/python3.7/dist-packages (2.0.0)\n",
            "Requirement already satisfied: importlib-metadata; python_version < \"3.8\" in /usr/local/lib/python3.7/dist-packages (from jsonpickle) (4.0.1)\n",
            "Requirement already satisfied: typing-extensions>=3.6.4; python_version < \"3.8\" in /usr/local/lib/python3.7/dist-packages (from importlib-metadata; python_version < \"3.8\"->jsonpickle) (3.7.4.3)\n",
            "Requirement already satisfied: zipp>=0.5 in /usr/local/lib/python3.7/dist-packages (from importlib-metadata; python_version < \"3.8\"->jsonpickle) (3.4.1)\n"
          ],
          "name": "stdout"
        }
      ]
    },
    {
      "cell_type": "markdown",
      "metadata": {
        "id": "9BNMiIDx9-0w"
      },
      "source": [
        "# Editing the CSV"
      ]
    },
    {
      "cell_type": "code",
      "metadata": {
        "id": "7eQZlWjOgX1F",
        "colab": {
          "base_uri": "https://localhost:8080/"
        },
        "outputId": "e8feff23-7591-4c73-96c2-9da60b31e30f"
      },
      "source": [
        "import json\n",
        "import csv\n",
        "import io\n",
        "\n",
        "from google.colab import drive\n",
        "drive.mount('/content/drive')\n",
        "with open('/content/LPApology.txt', 'r') as f: \n",
        "    print(f.read())\n",
        "\n",
        "my_file = open(\"LPApology.txt\", \"r\")\n",
        "content = my_file.read()\n",
        "\n",
        "apology_list = content.split(\" \")\n",
        "my_file.close()\n",
        "print(apology_list)\n"
      ],
      "execution_count": 88,
      "outputs": [
        {
          "output_type": "stream",
          "text": [
            "Drive already mounted at /content/drive; to attempt to forcibly remount, call drive.mount(\"/content/drive\", force_remount=True).\n",
            "Where do I begin...\n",
            "\n",
            "Let's start with this -\n",
            "I'm sorry.\n",
            "\n",
            "This is a first for me. I've never faced\n",
            "criticism like this before, because I've\n",
            "never made a mistake like this before. I'm\n",
            "surrounded by good people and believe I\n",
            "make good decisions, but I'm still a human\n",
            "being. I can be wrong.\n",
            "\n",
            "I didn’t do it for views. I get views. I did it\n",
            "because I thought I could make a positive\n",
            "ripple on the internet, not cause a\n",
            "monsoon of negativity. That's never the\n",
            "intention. I intended to raise awareness for\n",
            "suicide and suicide prevention and while I\n",
            "thought “if this video saves just ONE life,\n",
            "it'll be worth it,” I was misguided by shock\n",
            "and awe, as portrayed in the video. I still\n",
            "am.\n",
            "\n",
            "I do this sh*t every day. I’ve made a 15\n",
            "minute TV show EVERY SINGLE DAY for\n",
            "the past 460+ days. One may understand\n",
            "that it’s easy to get caught up in the\n",
            "moment without fully weighing the\n",
            "possible ramifications.\n",
            "\n",
            "I'm often reminded of how big of a reach I\n",
            "truly have & with great power comes great\n",
            "responsibility... for the first time in my life\n",
            "I'm regretful to say I handled that power\n",
            "incorrectly. It won't happen again.\n",
            "\n",
            "I love everyone. I believe in people. I’m out\n",
            "here. Peace & #Logang4Life\n",
            "\f\n",
            "\f\n",
            "['Where', 'do', 'I', \"begin...\\n\\nLet's\", 'start', 'with', 'this', \"-\\nI'm\", 'sorry.\\n\\nThis', 'is', 'a', 'first', 'for', 'me.', \"I've\", 'never', 'faced\\ncriticism', 'like', 'this', 'before,', 'because', \"I've\\nnever\", 'made', 'a', 'mistake', 'like', 'this', 'before.', \"I'm\\nsurrounded\", 'by', 'good', 'people', 'and', 'believe', 'I\\nmake', 'good', 'decisions,', 'but', \"I'm\", 'still', 'a', 'human\\nbeing.', 'I', 'can', 'be', 'wrong.\\n\\nI', 'didn’t', 'do', 'it', 'for', 'views.', 'I', 'get', 'views.', 'I', 'did', 'it\\nbecause', 'I', 'thought', 'I', 'could', 'make', 'a', 'positive\\nripple', 'on', 'the', 'internet,', 'not', 'cause', 'a\\nmonsoon', 'of', 'negativity.', \"That's\", 'never', 'the\\nintention.', 'I', 'intended', 'to', 'raise', 'awareness', 'for\\nsuicide', 'and', 'suicide', 'prevention', 'and', 'while', 'I\\nthought', '“if', 'this', 'video', 'saves', 'just', 'ONE', \"life,\\nit'll\", 'be', 'worth', 'it,”', 'I', 'was', 'misguided', 'by', 'shock\\nand', 'awe,', 'as', 'portrayed', 'in', 'the', 'video.', 'I', 'still\\nam.\\n\\nI', 'do', 'this', 'sh*t', 'every', 'day.', 'I’ve', 'made', 'a', '15\\nminute', 'TV', 'show', 'EVERY', 'SINGLE', 'DAY', 'for\\nthe', 'past', '460+', 'days.', 'One', 'may', 'understand\\nthat', 'it’s', 'easy', 'to', 'get', 'caught', 'up', 'in', 'the\\nmoment', 'without', 'fully', 'weighing', 'the\\npossible', \"ramifications.\\n\\nI'm\", 'often', 'reminded', 'of', 'how', 'big', 'of', 'a', 'reach', 'I\\ntruly', 'have', '&', 'with', 'great', 'power', 'comes', 'great\\nresponsibility...', 'for', 'the', 'first', 'time', 'in', 'my', \"life\\nI'm\", 'regretful', 'to', 'say', 'I', 'handled', 'that', 'power\\nincorrectly.', 'It', \"won't\", 'happen', 'again.\\n\\nI', 'love', 'everyone.', 'I', 'believe', 'in', 'people.', 'I’m', 'out\\nhere.', 'Peace', '&', '#Logang4Life\\n\\x0c\\n\\x0c']\n"
          ],
          "name": "stdout"
        }
      ]
    },
    {
      "cell_type": "markdown",
      "metadata": {
        "id": "ubHsWJ_9pxuu"
      },
      "source": [
        "# Cleaning"
      ]
    },
    {
      "cell_type": "code",
      "metadata": {
        "id": "O2PeQFk9puF6",
        "colab": {
          "base_uri": "https://localhost:8080/"
        },
        "outputId": "748d6d2e-d285-4423-be28-0d30b5593e49"
      },
      "source": [
        "index = len(apology_list)\n",
        "print (index)\n",
        "import re\n",
        "i = 0\n",
        "while ((i+1) <= index):\n",
        "      apology_list[i]=re.sub(r'@[A-Z0-9a-z_:]+','',apology_list[i])#replace username-tags\n",
        "      apology_list[i]=re.sub(r'^[RT]+','',apology_list[i])#replace RT-tags\n",
        "      apology_list[i] = re.sub('https?://[A-Za-z0-9./]+','',apology_list[i])#replace URLs\n",
        "      apology_list[i]=re.sub(\"[^a-zA-Z]\", \" \",apology_list[i])#replace hashtags\n",
        "      i += 1\n",
        "print(apology_list)\n",
        " \n"
      ],
      "execution_count": 89,
      "outputs": [
        {
          "output_type": "stream",
          "text": [
            "189\n",
            "['Where', 'do', 'I', 'begin     Let s', 'start', 'with', 'this', '  I m', 'sorry   This', 'is', 'a', 'first', 'for', 'me ', 'I ve', 'never', 'faced criticism', 'like', 'this', 'before ', 'because', 'I ve never', 'made', 'a', 'mistake', 'like', 'this', 'before ', 'I m surrounded', 'by', 'good', 'people', 'and', 'believe', 'I make', 'good', 'decisions ', 'but', 'I m', 'still', 'a', 'human being ', 'I', 'can', 'be', 'wrong   I', 'didn t', 'do', 'it', 'for', 'views ', 'I', 'get', 'views ', 'I', 'did', 'it because', 'I', 'thought', 'I', 'could', 'make', 'a', 'positive ripple', 'on', 'the', 'internet ', 'not', 'cause', 'a monsoon', 'of', 'negativity ', 'hat s', 'never', 'the intention ', 'I', 'intended', 'to', 'raise', 'awareness', 'for suicide', 'and', 'suicide', 'prevention', 'and', 'while', 'I thought', ' if', 'this', 'video', 'saves', 'just', 'ONE', 'life  it ll', 'be', 'worth', 'it  ', 'I', 'was', 'misguided', 'by', 'shock and', 'awe ', 'as', 'portrayed', 'in', 'the', 'video ', 'I', 'still am   I', 'do', 'this', 'sh t', 'every', 'day ', 'I ve', 'made', 'a', '   minute', 'V', 'show', 'EVERY', 'SINGLE', 'DAY', 'for the', 'past', '    ', 'days ', 'One', 'may', 'understand that', 'it s', 'easy', 'to', 'get', 'caught', 'up', 'in', 'the moment', 'without', 'fully', 'weighing', 'the possible', 'ramifications   I m', 'often', 'reminded', 'of', 'how', 'big', 'of', 'a', 'reach', 'I truly', 'have', ' ', 'with', 'great', 'power', 'comes', 'great responsibility   ', 'for', 'the', 'first', 'time', 'in', 'my', 'life I m', 'regretful', 'to', 'say', 'I', 'handled', 'that', 'power incorrectly ', 'It', 'won t', 'happen', 'again   I', 'love', 'everyone ', 'I', 'believe', 'in', 'people ', 'I m', 'out here ', 'Peace', ' ', ' Logang Life    ']\n"
          ],
          "name": "stdout"
        }
      ]
    },
    {
      "cell_type": "markdown",
      "metadata": {
        "id": "r311JwML_jFV"
      },
      "source": [
        "# Sentiment Analysis"
      ]
    },
    {
      "cell_type": "code",
      "metadata": {
        "colab": {
          "base_uri": "https://localhost:8080/",
          "height": 552
        },
        "id": "BXm2Vq4w_nkj",
        "outputId": "76450115-c389-4321-ebda-35bda116dd47"
      },
      "source": [
        "import pandas as pd\n",
        "import matplotlib.pyplot as plt\n",
        "%matplotlib inline  \n",
        "import nltk\n",
        "from nltk import word_tokenize, sent_tokenize\n",
        "from nltk.corpus import stopwords\n",
        "from nltk.stem import LancasterStemmer, WordNetLemmatizer, PorterStemmer\n",
        "from wordcloud import WordCloud, STOPWORDS\n",
        "from textblob import TextBlob\n",
        "nltk.download('stopwords')\n",
        "senti_score = []\n",
        "\n",
        "## Lowercase all reviews\n",
        "for i in range(len(apology_list)):\n",
        "    apology_list[i] = apology_list[i].lower()\n",
        "\n",
        "## Remove special characters\n",
        "bad_chars = [';', ':', '!', \"*\", \"@\", \"$\", \"^\",\"&\",\"(\",\")\",\"?\",\"=\",\"/\",\"%\",\"rt \"] \n",
        "import re\n",
        "i = 0\n",
        "x = 0\n",
        "while ((i+1) <= len(apology_list)):\n",
        "    while ((x+1 <= len(bad_chars))):\n",
        "      if (apology_list[i] == bad_chars[x]):\n",
        "        apology_list[i]=re.sub(r'bad_chars[x]','',apology_list[i])\n",
        "        x += 1\n",
        "      else: \n",
        "        x += 1\n",
        "    i += 1\n",
        "\n",
        "## Remove stop words \n",
        "! pip install stop-words\n",
        "from stop_words import get_stop_words\n",
        "from nltk.corpus import stopwords\n",
        "\n",
        "for word in apology_list: # Removal 1\n",
        "  if word in stopwords.words('english'): \n",
        "    apology_list.remove(word) \n",
        "\n",
        "apology_list = [word for line in apology_list for word in line.split()] #Split and find more stop words, if any\n",
        "\n",
        "for word in apology_list: # Removal 2\n",
        "  if word in stopwords.words('english'): \n",
        "    apology_list.remove(word) \n",
        "\n",
        "## Stemming\n",
        "from nltk.stem import PorterStemmer\n",
        "ps = PorterStemmer()\n",
        "apology_list = [ps.stem(word) for word in apology_list]\n",
        "\n",
        "print (apology_list)\n",
        "\n",
        "\n",
        "## Sentiment Analysis\n",
        "import numpy as np\n",
        "import pandas as pd\n",
        "import re\n",
        "import warnings\n",
        "from nltk.stem import WordNetLemmatizer\n",
        "from nltk.sentiment.vader import SentimentIntensityAnalyzer\n",
        "from nltk.sentiment.util import *\n",
        "from nltk import tokenize\n",
        "nltk.download('vader_lexicon')\n",
        "import matplotlib.pyplot as plt\n",
        "import matplotlib\n",
        "import seaborn as sns\n",
        "from IPython.display import display\n",
        "from wordcloud import WordCloud, STOPWORDS\n",
        "\n",
        "#Generate word cloud for apology_list\n",
        "import matplotlib.pyplot as plt\n",
        "from wordcloud import WordCloud\n",
        "unique_string=(\" \").join(apology_list)\n",
        "wordcloud = WordCloud(width = 1000, height = 500).generate(unique_string)\n",
        "plt.figure(figsize=(15,8))\n",
        "plt.imshow(wordcloud)\n",
        "plt.axis(\"off\")\n",
        "plt.savefig(\"apology\"+\".png\", bbox_inches='tight')\n",
        "plt.show()\n",
        "plt.close()\n",
        "\n",
        "#Sentiment of the apology\n",
        "## Change the reviews type to string\n",
        "apology_string = ' '.join([str(elem) for elem in apology_list])\n",
        "print (apology_string)\n",
        "import pandas as pd\n",
        "  \n",
        "# initialize list of lists\n",
        "data = apology_list\n",
        "  \n",
        "# Create the pandas DataFrame\n",
        "df = pd.DataFrame(data, columns = ['Words'])\n",
        "  \n",
        "# print dataframe.\n",
        "df\n",
        "\n",
        "sid = SentimentIntensityAnalyzer()\n",
        "df['sentiment_compound_polarity']=df.Words.apply(lambda x:sid.polarity_scores(x)['compound'])\n",
        "df['sentiment_neutral']=df.Words.apply(lambda x:sid.polarity_scores(x)['neu'])\n",
        "df['sentiment_negative']=df.Words.apply(lambda x:sid.polarity_scores(x)['neg'])\n",
        "df['sentiment_pos']=df.Words.apply(lambda x:sid.polarity_scores(x)['pos'])\n",
        "df['sentiment_type']=''\n",
        "df.loc[df.sentiment_compound_polarity>0,'sentiment_type']='POSITIVE'\n",
        "df.loc[df.sentiment_compound_polarity==0,'sentiment_type']='NEUTRAL'\n",
        "df.loc[df.sentiment_compound_polarity<0,'sentiment_type']='NEGATIVE'\n",
        "df.head()\n",
        "\n",
        "##Plot the findings of sentiment analysis\n",
        "apology_sentiment = df.groupby(['sentiment_type'])['sentiment_neutral'].count()\n",
        "apology_sentiment.rename(\"\",inplace=True)\n",
        "explode = (1, 0, 0)\n",
        "plt.subplot(221)\n",
        "apology_sentiment.transpose().plot(kind='barh',figsize=(20, 20),color=['blue', 'orange', 'green'])\n",
        "plt.title('Sentiment Analysis of Apology', bbox={'facecolor':'0.8', 'pad':0})\n",
        "plt.subplot(222)\n",
        "apology_sentiment.plot(kind='pie',figsize=(20, 20),autopct='%1.1f%%',shadow=True,explode=explode)\n",
        "plt.legend(bbox_to_anchor=(1, 1), loc=3, borderaxespad=0.)\n",
        "plt.title('Sentiment Analysis of Apology', bbox={'facecolor':'0.8', 'pad':0})\n",
        "plt.show()\n",
        "\n"
      ],
      "execution_count": 115,
      "outputs": [
        {
          "output_type": "display_data",
          "data": {
            "image/png": "[encoded data removed]",
            "text/plain": [
              "<Figure size 1440x1440 with 2 Axes>"
            ]
          },
          "metadata": {
            "tags": [],
            "needs_background": "light"
          }
        }
      ]
    }
  ]
}