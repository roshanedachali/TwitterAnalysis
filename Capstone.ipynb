{
  "nbformat": 4,
  "nbformat_minor": 0,
  "metadata": {
    "colab": {
      "name": "Capstone.ipynb",
      "provenance": [],
      "authorship_tag": "ABX9TyMlUTRBo7NPLW86VsZ1A/6c",
      "include_colab_link": true
    },
    "kernelspec": {
      "name": "python3",
      "display_name": "Python 3"
    },
    "language_info": {
      "name": "python"
    }
  },
  "cells": [
    {
      "cell_type": "markdown",
      "metadata": {
        "id": "view-in-github",
        "colab_type": "text"
      },
      "source": [
        "<a href=\"https://colab.research.google.com/github/roshanedachali/TwitterAnalysis/blob/main/Capstone.ipynb\" target=\"_parent\"><img src=\"https://colab.research.google.com/assets/colab-badge.svg\" alt=\"Open In Colab\"/></a>"
      ]
    },
    {
      "cell_type": "markdown",
      "metadata": {
        "id": "cRV7UItieSqd"
      },
      "source": [
        "# Import"
      ]
    },
    {
      "cell_type": "code",
      "metadata": {
        "id": "iDsMVnIMYPys",
        "colab": {
          "base_uri": "https://localhost:8080/"
        },
        "outputId": "2974c739-cdc5-42f2-d205-2895f3e86da3"
      },
      "source": [
        "#IMPORT\n",
        "import tweepy\n",
        "import csv\n",
        "! pip install jsonpickle\n",
        "import jsonpickle\n",
        "API_KEY=\"Q76360NUPSaax6Ic1MyPCqPhD\"\n",
        "API_SECRET=\"Ef5NJGN1GVJ6hwjOgh7Tv5NtOrBgipvE2umyrP37qkh8XWbOmC\"\n",
        "ACCESS_TOKEN=\"3180237764-o2OUouxEnigruw79ULQ2RrK78zbONdduBgScexi\"\n",
        "ACCESS_TOKEN_SECRET=\"yXCX26guHINaRHFCrlJmTTiSweTnlOTd67DDYdbJceQpl\"\n",
        "auth = tweepy.OAuthHandler(API_KEY, API_SECRET)\n",
        "auth.set_access_token(ACCESS_TOKEN, ACCESS_TOKEN_SECRET)\n",
        "api = tweepy.API(auth)\n",
        "import pandas as pd\n",
        "import numpy as np\n",
        "import re\n",
        "import string\n",
        "from nltk.corpus import stopwords\n",
        "from nltk.tokenize import word_tokenize\n",
        "from sklearn.feature_extraction.text import TfidfVectorizer\n",
        "from sklearn.model_selection import train_test_split\n",
        "from nltk.stem import PorterStemmer\n",
        "from nltk.stem import WordNetLemmatizer\n",
        "# ML Libraries\n",
        "from sklearn.metrics import accuracy_score\n",
        "from sklearn.naive_bayes import MultinomialNB\n",
        "from sklearn.linear_model import LogisticRegression\n",
        "from sklearn.svm import SVC"
      ],
      "execution_count": 66,
      "outputs": [
        {
          "output_type": "stream",
          "text": [
            "Requirement already satisfied: jsonpickle in /usr/local/lib/python3.7/dist-packages (2.0.0)\n",
            "Requirement already satisfied: importlib-metadata; python_version < \"3.8\" in /usr/local/lib/python3.7/dist-packages (from jsonpickle) (4.0.1)\n",
            "Requirement already satisfied: typing-extensions>=3.6.4; python_version < \"3.8\" in /usr/local/lib/python3.7/dist-packages (from importlib-metadata; python_version < \"3.8\"->jsonpickle) (3.7.4.3)\n",
            "Requirement already satisfied: zipp>=0.5 in /usr/local/lib/python3.7/dist-packages (from importlib-metadata; python_version < \"3.8\"->jsonpickle) (3.4.1)\n"
          ],
          "name": "stdout"
        }
      ]
    },
    {
      "cell_type": "markdown",
      "metadata": {
        "id": "UAgmSrKNedRv"
      },
      "source": [
        "# Get and Store Tweets\n"
      ]
    },
    {
      "cell_type": "code",
      "metadata": {
        "colab": {
          "base_uri": "https://localhost:8080/"
        },
        "id": "QNlU_ewxa8oQ",
        "outputId": "58b7c344-f9c9-47e3-c27b-4ff1a594e0c7"
      },
      "source": [
        "tweetsPerQuery = 100 #this is the maximum provided by API\n",
        "max_tweets = 100000000 # just for the sake of While loop\n",
        "\n",
        "# No sinceId and max_id ..Get whathever you have exhaustively\n",
        "since_id = None\n",
        "max_id = -1\n",
        "tweet_count = 0\n",
        "\n",
        "search_query=\"#SwachhBharat\"\n",
        "x=0\n",
        "with open(\"sb_06_10_21.txt\",'w') as f:\n",
        "    print(\"Downloading hashtag: \" + search_query)\n",
        "    while(tweet_count<max_tweets):\n",
        "        try:\n",
        "            if(max_id<=0):\n",
        "                if(not since_id):\n",
        "                    new_tweets = api.search(q=search_query,count=tweetsPerQuery,lang=\"en\",tweet_mode='extended')\n",
        "\n",
        "                else:\n",
        "                    new_tweets = api.search(q=search_query,count=tweetsPerQuery,lang=\"en\",tweet_mode='extended',since_id=since_id)\n",
        "            else:\n",
        "                if(not since_id):\n",
        "                    new_tweets = api.search(q=search_query,count=tweetsPerQuery,lang=\"en\",tweet_mode='extended',max_id=str(max_id-1))\n",
        "                else:\n",
        "                    new_tweets = api.search(q=search_query,count=tweetsPerQuery,lang=\"en\",tweet_mode='extended',max_id=str(max_id-1),since_id=since_id)\n",
        "\n",
        "            # Tweets Exhausted\n",
        "            if(not new_tweets):\n",
        "                break\n",
        "            # write all the new_tweets to a json file\n",
        "            for tweet in new_tweets:\n",
        "                f.write(jsonpickle.encode(tweet._json,unpicklable=False)+'\\n')\n",
        "                tweet_count+=len(new_tweets)\n",
        "                max_id=new_tweets[-1].id\n",
        "        # in case of any error\n",
        "        except tweepy.TweepError as e:\n",
        "                print(\"Some error!!:\"+str(e))\n",
        "                break\n",
        "\n",
        "print(\"A total of {0} tweets were downloaded and saved.\".format(tweet_count))\n",
        "\n"
      ],
      "execution_count": 52,
      "outputs": [
        {
          "output_type": "stream",
          "text": [
            "Downloading hashtag: #SwachhBharat\n",
            "A total of 231143 tweets were downloaded and saved.\n"
          ],
          "name": "stdout"
        }
      ]
    },
    {
      "cell_type": "markdown",
      "metadata": {
        "id": "9BNMiIDx9-0w"
      },
      "source": [
        "# Editing the CSV"
      ]
    },
    {
      "cell_type": "code",
      "metadata": {
        "id": "7eQZlWjOgX1F"
      },
      "source": [
        "import json\n",
        "import csv\n",
        "import io\n",
        "\n",
        "\n",
        "\n",
        "f = open('som1.csv','a',encoding='utf-8')\n",
        "csvWriter = csv.writer(f)\n",
        "headers=['full_text','retweet_count','user_followers_count','favorite_count','place','coordinates','geo','created_at','id_str']\n",
        "csvWriter.writerow(headers)\n",
        "\n",
        "for inputFile in ['sb_10_06_21.txt']:#all the text-file names you want to convert to Csv in the sae folder as this code\n",
        "    tweets = []\n",
        "    for line in open(\"sb_06_10_21.txt\", 'r'):\n",
        "        tweets.append(json.loads(line))\n",
        "\n",
        "    print('HI',len(tweets))\n",
        "    count_lines=0\n",
        "    for tweet in tweets:\n",
        "        try:\n",
        "            csvWriter.writerow([tweet['full_text'],tweet['retweet_count'],tweet['user']['followers_count'],tweet['favorite_count'],tweet['place'],tweet['coordinates'],tweet['geo'],tweet['created_at'],str(tweet['id_str'])])\n",
        "            count_lines+=1\n",
        "        except Exception as e:\n",
        "            print(e)\n",
        "    print(count_lines)\n",
        "    \n",
        "import pandas as pd\n",
        "df = pd.read_csv('som1.csv', encoding = 'unicode_escape')\n",
        "df.head(5)\n"
      ],
      "execution_count": null,
      "outputs": []
    },
    {
      "cell_type": "markdown",
      "metadata": {
        "id": "ubHsWJ_9pxuu"
      },
      "source": [
        "# Cleaning"
      ]
    },
    {
      "cell_type": "code",
      "metadata": {
        "id": "O2PeQFk9puF6"
      },
      "source": [
        "print(len(df.index))\n",
        "serlis=df.duplicated().tolist()\n",
        "print(serlis.count(True))\n",
        "serlis=df.duplicated(['full_text']).tolist()\n",
        "print(serlis.count(True))\n",
        "df=df.drop_duplicates(['full_text'])\n",
        "df.head(5)\n",
        "index = (df.index)\n",
        "import re\n",
        "i = 0\n",
        "j = 0\n",
        "while ((i+1) <= len(index)):\n",
        "    if (i == index[j]):\n",
        "      txt = df.loc[i][\"full_text\"]\n",
        "      txt=re.sub(r'@[A-Z0-9a-z_:]+','',txt)#replace username-tags\n",
        "      txt=re.sub(r'^[RT]+','',txt)#replace RT-tags\n",
        "      txt = re.sub('https?://[A-Za-z0-9./]+','',txt)#replace URLs\n",
        "      txt=re.sub(\"[^a-zA-Z]\", \" \",txt)#replace hashtags\n",
        "      df.at[i,\"full_text\"]=txt\n",
        "      i += 1\n",
        "      j += 1\n",
        "    else: \n",
        "      i += 1\n",
        "df = df.drop(\"id_str\", axis = 1)\n",
        "df.head()\n"
      ],
      "execution_count": null,
      "outputs": []
    },
    {
      "cell_type": "code",
      "metadata": {
        "id": "Le5bGqorTkBJ"
      },
      "source": [
        ""
      ],
      "execution_count": 54,
      "outputs": []
    },
    {
      "cell_type": "markdown",
      "metadata": {
        "id": "r311JwML_jFV"
      },
      "source": [
        "# Sentiment Analysis"
      ]
    },
    {
      "cell_type": "code",
      "metadata": {
        "colab": {
          "base_uri": "https://localhost:8080/",
          "height": 621
        },
        "id": "BXm2Vq4w_nkj",
        "outputId": "8afa2259-44a3-4afa-e424-4bc293cdb82e"
      },
      "source": [
        "import pandas as pd\n",
        "import matplotlib.pyplot as plt\n",
        "%matplotlib inline  \n",
        "import nltk\n",
        "from nltk import word_tokenize, sent_tokenize\n",
        "from nltk.corpus import stopwords\n",
        "from nltk.stem import LancasterStemmer, WordNetLemmatizer, PorterStemmer\n",
        "from wordcloud import WordCloud, STOPWORDS\n",
        "from textblob import TextBlob\n",
        "nltk.download('stopwords')\n",
        "senti_score = []\n",
        "df.head()\n",
        "\n",
        "## Change the reviews type to string\n",
        "df['full_text'] = df['full_text'].astype(str)\n",
        "\n",
        "## Before lowercasing \n",
        "df['full_text'][2]\n",
        "\n",
        "## Lowercase all reviews\n",
        "df['full_text'] = df['full_text'].apply(lambda x: \" \".join(x.lower() for x in x.split()))\n",
        "\n",
        "## Remove special characters\n",
        "bad_chars = [';', ':', '!', \"*\", \"@\", \"$\", \"^\",\"&\",\"(\",\")\",\"?\",\"=\",\"/\",\"%\",\"rt \"] \n",
        "for i in bad_chars :\n",
        "    df = df.replace(i, '')\n",
        "\n",
        "## Remove https\n",
        "def remove_URL(x):\n",
        "    return re.sub(r\"http\\S+\", \"\", x)\n",
        "\n",
        "df['full_text'] = df['full_text'].apply(remove_URL)\n",
        "\n",
        "## Remove stop words \n",
        "stop = stopwords.words('english')\n",
        "df['full_text'] = df['full_text'].apply(lambda x: \" \".join(x for x in x.split() if x not in stop))\n",
        "\n",
        "## Stemming\n",
        "st = PorterStemmer()\n",
        "df['full_text'] = df['full_text'].apply(lambda x: \" \".join([st.stem(word) for word in x.split()]))\n",
        "\n",
        "## Sentiment Analysis\n",
        "import numpy as np\n",
        "import pandas as pd\n",
        "import re\n",
        "import warnings\n",
        "from nltk.stem import WordNetLemmatizer\n",
        "from nltk.sentiment.vader import SentimentIntensityAnalyzer\n",
        "from nltk.sentiment.util import *\n",
        "from nltk import tokenize\n",
        "nltk.download('vader_lexicon')\n",
        "import matplotlib.pyplot as plt\n",
        "import matplotlib\n",
        "import seaborn as sns\n",
        "from IPython.display import display\n",
        "from wordcloud import WordCloud, STOPWORDS\n",
        "\n",
        "matplotlib.style.use('ggplot')\n",
        "pd.options.mode.chained_assignment = None\n",
        "warnings.filterwarnings(\"ignore\")\n",
        "\n",
        "%matplotlib inline\n",
        "df['full_text'] = [''.join([WordNetLemmatizer().lemmatize(re.sub('[^A-Za-z]', ' ', line)) for line in lists]).strip() for lists in df['full_text']]       \n",
        "vectorizer = TfidfVectorizer(max_df=0.5,max_features=10000,min_df=10,stop_words='english',use_idf=True)\n",
        "X = vectorizer.fit_transform(df['full_text'].str.upper())\n",
        "sid = SentimentIntensityAnalyzer()\n",
        "df['sentiment_compound_polarity']=df.full_text.apply(lambda x:sid.polarity_scores(x)['compound'])\n",
        "df['sentiment_neutral']=df.full_text.apply(lambda x:sid.polarity_scores(x)['neu'])\n",
        "df['sentiment_negative']=df.full_text.apply(lambda x:sid.polarity_scores(x)['neg'])\n",
        "df['sentiment_pos']=df.full_text.apply(lambda x:sid.polarity_scores(x)['pos'])\n",
        "df['sentiment_type']=''\n",
        "df.loc[df.sentiment_compound_polarity>0,'sentiment_type']='POSITIVE'\n",
        "df.loc[df.sentiment_compound_polarity==0,'sentiment_type']='NEUTRAL'\n",
        "df.loc[df.sentiment_compound_polarity<0,'sentiment_type']='NEGATIVE'\n",
        "\n",
        "##Plot the findings of sentiment analysis\n",
        "tweets_sentiment = df.groupby(['sentiment_type'])['sentiment_neutral'].count()\n",
        "tweets_sentiment.rename(\"\",inplace=True)\n",
        "explode = (1, 0, 0)\n",
        "plt.subplot(221)\n",
        "tweets_sentiment.transpose().plot(kind='barh',figsize=(20, 20),color=['black', 'red', 'green'])\n",
        "plt.title('Sentiment Analysis 1', bbox={'facecolor':'0.8', 'pad':0})\n",
        "plt.subplot(222)\n",
        "tweets_sentiment.plot(kind='pie',figsize=(20, 20),autopct='%1.1f%%',shadow=True,explode=explode)\n",
        "plt.legend(bbox_to_anchor=(1, 1), loc=3, borderaxespad=0.)\n",
        "plt.title('Sentiment Analysis 2', bbox={'facecolor':'0.8', 'pad':0})\n",
        "plt.show()"
      ],
      "execution_count": 100,
      "outputs": [
        {
          "output_type": "stream",
          "text": [
            "[nltk_data] Downloading package stopwords to /root/nltk_data...\n",
            "[nltk_data]   Package stopwords is already up-to-date!\n",
            "[nltk_data] Downloading package vader_lexicon to /root/nltk_data...\n",
            "[nltk_data]   Package vader_lexicon is already up-to-date!\n"
          ],
          "name": "stdout"
        },
        {
          "output_type": "display_data",
          "data": {
            "image/png": "[encoded data removed]",
            "text/plain": [
              "<Figure size 1440x1440 with 2 Axes>"
            ]
          },
          "metadata": {
            "tags": [],
            "needs_background": "light"
          }
        }
      ]
    }
  ]
}